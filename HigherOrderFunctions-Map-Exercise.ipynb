{
 "cells": [
  {
   "cell_type": "markdown",
   "metadata": {},
   "source": [
    "Write a Python program to triple all numbers of a given list of integers. Use Python map"
   ]
  },
  {
   "cell_type": "code",
   "execution_count": 4,
   "metadata": {},
   "outputs": [
    {
     "name": "stdout",
     "output_type": "stream",
     "text": [
      "[56, 68, 55, 78, 14, 7, 75, 28, 46, 90, 50, 11, 71, 92, 96, 20, 83, 18, 36, 65]\n",
      "Tripled List:  [168, 204, 165, 234, 42, 21, 225, 84, 138, 270, 150, 33, 213, 276, 288, 60, 249, 54, 108, 195]\n"
     ]
    }
   ],
   "source": [
    "import random\n",
    "mylist=random.sample(range(1,100),20)\n",
    "print(mylist)\n",
    "mytripledlist=list(map(lambda x:x*3 ,mylist))\n",
    "print(\"Tripled List: \",mytripledlist)"
   ]
  },
  {
   "cell_type": "markdown",
   "metadata": {},
   "source": [
    "Write a Python program to add three given lists using Python map and lambda. "
   ]
  },
  {
   "cell_type": "code",
   "execution_count": 10,
   "metadata": {},
   "outputs": [
    {
     "name": "stdout",
     "output_type": "stream",
     "text": [
      "[1, 16, 8, 7, 10] [39, 35, 14, 31, 36] [42, 18, 10, 28, 46]\n",
      "[82, 69, 32, 66, 92]\n"
     ]
    }
   ],
   "source": [
    "list1=random.sample(range(1,20),5)\n",
    "list2=random.sample(range(1,40),5)\n",
    "list3=random.sample(range(1,60),5)\n",
    "print(list1,list2,list3)\n",
    "addedlist=list(map(lambda x,y,z: x+y+z, list1,list2,list3))\n",
    "print(addedlist)\n"
   ]
  },
  {
   "cell_type": "markdown",
   "metadata": {},
   "source": [
    "Write a Python program to listify the list of given strings individually using Python map"
   ]
  },
  {
   "cell_type": "code",
   "execution_count": 15,
   "metadata": {},
   "outputs": [
    {
     "name": "stdout",
     "output_type": "stream",
     "text": [
      "[['h', 'e', 'l', 'l', 'o'], ['y', 'o', 'u'], ['a', 'r', 'e'], ['a', 'w', 'e', 's', 'o', 'm', 'e'], ['e', 'v', 'e', 'n'], ['t', 'h', 'o', 'u', 'g', 'h'], ['n', 'o', 't'], ['p', 'e', 'r', 'f', 'e', 'c', 't']]\n"
     ]
    }
   ],
   "source": [
    "mystringlist=[\"hello\",\"you\",\"are\",\"awesome\",\"even\",\"though\",\"not\",\"perfect\"]\n",
    "ans=list(map(lambda x:list(x),mystringlist))\n",
    "print(ans)\n"
   ]
  },
  {
   "cell_type": "markdown",
   "metadata": {},
   "source": [
    "Write a Python program to create a list containing the power of said number in bases raised to the corresponding number in the index using Python map."
   ]
  },
  {
   "cell_type": "code",
   "execution_count": 19,
   "metadata": {},
   "outputs": [
    {
     "name": "stdout",
     "output_type": "stream",
     "text": [
      "[3, 19, 12, 4, 2]\n",
      "[1, 19, 144, 64, 16]\n"
     ]
    }
   ],
   "source": [
    "mylist=random.sample(range(1,20),5)\n",
    "ans=list(map(lambda x: pow(x,mylist.index(x)),mylist))\n",
    "print(mylist)\n",
    "print(ans)"
   ]
  },
  {
   "cell_type": "markdown",
   "metadata": {},
   "source": [
    "Write a Python program to square the elements of a list using map() function."
   ]
  },
  {
   "cell_type": "code",
   "execution_count": 22,
   "metadata": {},
   "outputs": [
    {
     "name": "stdout",
     "output_type": "stream",
     "text": [
      "[18, 1, 5, 3, 12, 17, 4, 14]\n",
      "Squared:  [324, 1, 25, 9, 144, 289, 16, 196]\n"
     ]
    }
   ],
   "source": [
    "mylist=random.sample(range(1,20),8)\n",
    "print(mylist)\n",
    "print(\"Squared: \",list(map(lambda x:x*x,mylist)))"
   ]
  },
  {
   "cell_type": "markdown",
   "metadata": {},
   "source": [
    " Write a Python program to convert all the characters in uppercase and lowercase and eliminate duplicate letters from a given sequence. Use map() function"
   ]
  },
  {
   "cell_type": "code",
   "execution_count": 36,
   "metadata": {},
   "outputs": [
    {
     "name": "stdout",
     "output_type": "stream",
     "text": [
      "{('S', 's'), ('M', 'm'), ('E', 'e'), ('T', 't')}\n",
      "{('S', 's'), ('M', 'm'), ('E', 'e'), ('T', 't')}\n"
     ]
    }
   ],
   "source": [
    "def changecase(c):\n",
    "    return c.upper(), c.lower()\n",
    "mylist=('T','e','S','t','m','E')\n",
    "print(set(map(lambda x:changecase(x),mylist)))#Lambda Call in map \n",
    "print(set(map(changecase,mylist)))#Function call in map"
   ]
  },
  {
   "cell_type": "markdown",
   "metadata": {},
   "source": [
    "Write a Python program to add two given lists and find the difference between lists. Use map() function. "
   ]
  },
  {
   "cell_type": "code",
   "execution_count": 37,
   "metadata": {},
   "outputs": [
    {
     "name": "stdout",
     "output_type": "stream",
     "text": [
      "[51, 99, 53, 82, 32, 16, 21, 88, 33, 65]\n",
      "[34, 82, 85, 84, 35, 79, 44, 98, 37, 70]\n",
      "[(85, 17), (181, 17), (138, -32), (166, -2), (67, -3), (95, -63), (65, -23), (186, -10), (70, -4), (135, -5)]\n",
      "[(85, 17), (181, 17), (138, -32), (166, -2), (67, -3), (95, -63), (65, -23), (186, -10), (70, -4), (135, -5)]\n"
     ]
    }
   ],
   "source": [
    "def mathaddsub(x,y):\n",
    "    return x+y,x-y\n",
    "mylist1=random.sample(range(10,100),10)\n",
    "mylist2=random.sample(range(10,100),10)\n",
    "print(mylist1)\n",
    "print(mylist2)\n",
    "print(list(map(lambda x,y:mathaddsub(x,y),mylist1,mylist2)))\n",
    "print(list(map(mathaddsub,mylist1,mylist2)))"
   ]
  },
  {
   "cell_type": "markdown",
   "metadata": {},
   "source": [
    "Write a Python program to convert a given list of integers and a tuple of integers in a list of strings."
   ]
  },
  {
   "cell_type": "code",
   "execution_count": 47,
   "metadata": {},
   "outputs": [
    {
     "name": "stdout",
     "output_type": "stream",
     "text": [
      "[82, 42, 45, 53, 34, 32, 18, 74, 66, 76] (36, 45, 61, 28, 49, 32, 12, 16, 85, 56)\n",
      "['82', '42', '45', '53', '34', '32', '18', '74', '66', '76']\n",
      "('36', '45', '61', '28', '49', '32', '12', '16', '85', '56')\n"
     ]
    }
   ],
   "source": [
    "mylist = random.sample(range(10,100),10)\n",
    "mytuple=tuple(random.sample(range(10,100),10))\n",
    "print(mylist,mytuple)\n",
    "print(list(map(lambda x:str(x),mylist)))\n",
    "print(tuple(map(lambda x:str(x),mytuple)))"
   ]
  },
  {
   "cell_type": "markdown",
   "metadata": {},
   "source": [
    "Write a Python program to create a new list taking specific elements from a tuple and convert a string value to integer. "
   ]
  },
  {
   "cell_type": "code",
   "execution_count": 55,
   "metadata": {},
   "outputs": [
    {
     "name": "stdout",
     "output_type": "stream",
     "text": [
      "[35, 37, 39, 35]\n"
     ]
    }
   ],
   "source": [
    "student_data  = [('Alberto Franco','15/05/2002','35kg'), ('Gino Mcneill','17/05/2002','37kg'), ('Ryan Parkes','16/02/1999', '39kg'), ('Eesha Hinton','25/09/1998', '35kg')]\n",
    "print(list(map(lambda x:int(x[2][:-2]),student_data)))"
   ]
  },
  {
   "cell_type": "markdown",
   "metadata": {},
   "source": [
    "Write a Python program to compute the square of first N Fibonacci numbers, using map function and generate a list of the numbers."
   ]
  },
  {
   "cell_type": "code",
   "execution_count": 58,
   "metadata": {},
   "outputs": [
    {
     "name": "stdout",
     "output_type": "stream",
     "text": [
      "Enter the Nth value to find out the squares of fib sequence unitl N10\n",
      "[0, 1, 1, 4, 9, 25, 64, 169, 441, 1156]\n"
     ]
    }
   ],
   "source": [
    "from functools import reduce\n",
    "myNvalue=int(input(\"Enter the Nth value to find out the squares of fib sequence unitl N\"))\n",
    "#Use reduce to recursively build the list of fib sequence and use map on this seq to square each element in seq\n",
    "print(list(map(lambda x:x*x,(reduce(lambda x,y: x+[x[-1]+x[-2]],range(myNvalue-2),[0,1])))))"
   ]
  },
  {
   "cell_type": "markdown",
   "metadata": {},
   "source": [
    "Write a Python program to compute the sum of elements of a given array of integers, use map() function."
   ]
  },
  {
   "cell_type": "code",
   "execution_count": 75,
   "metadata": {},
   "outputs": [
    {
     "name": "stdout",
     "output_type": "stream",
     "text": [
      "array('i', [9, 3, 2, 4, 7])\n",
      "25\n"
     ]
    }
   ],
   "source": [
    "from array import array\n",
    "myarr=array('i',random.sample(range(1,10),5))\n",
    "print(myarr)\n",
    "myintarr=list(map(int,myarr))\n",
    "print(reduce(lambda x,y:x+y,myintarr)) "
   ]
  },
  {
   "cell_type": "markdown",
   "metadata": {},
   "source": [
    "Write a Python program to find the ration of positive numbers, negative numbers and zeroes in an array of integers."
   ]
  },
  {
   "cell_type": "code",
   "execution_count": 110,
   "metadata": {},
   "outputs": [
    {
     "name": "stdout",
     "output_type": "stream",
     "text": [
      "[-43, -46, -38, 21, 16, -45, -36, 15, 45, -3, -18, 26, 27, 18, -6, 36, -13, -15, -39, 3, 32, 25, 39, -19, -30, -11, 35, 6, 7, 10]\n",
      "PositiveNumberRatio:  0.53  NegativeNumberRation:  0.47  ZeroNumberRatio:  0.0\n",
      "<class 'list'>\n",
      "(0.23, 0.54, 0.23)\n"
     ]
    }
   ],
   "source": [
    "mylist=random.sample(range(-50,50),30)\n",
    "print(mylist)\n",
    "poslist=len(list(filter(lambda x:x>0,mylist)))\n",
    "neglist=len(list(filter(lambda x:x<0,mylist)))\n",
    "zerolist=len(list(filter(lambda x:x==0,mylist)))\n",
    "print(\"PositiveNumberRatio: \", round(poslist/len(mylist),2),\" NegativeNumberRation: \",round(neglist/len(mylist),2),\" ZeroNumberRatio: \",round(zerolist/len(mylist),2))\n",
    "\n",
    "def myfunc(myint1):\n",
    "    mylen=len(myint1)\n",
    "    pos=neg=zer=0\n",
    "    for l in myint1:\n",
    "        if l<0:\n",
    "            neg+=1\n",
    "        elif l>0:\n",
    "            pos+=1\n",
    "        else:\n",
    "            zer+=1\n",
    "    return(round(neg/mylen,2),round(pos/mylen,2),round(zer/mylen,2))\n",
    "\n",
    "    \n",
    "myarray1=array(\"i\",[0,-1,2,-1,0,5,3,7,8,19,20,-4,0])\n",
    "myint1=list(map(int,myarray1))\n",
    "print(type(myint1))\n",
    "print(myfunc(myint1))\n"
   ]
  },
  {
   "cell_type": "markdown",
   "metadata": {},
   "source": [
    "Write a Python program to interleave two given list into another list randomly using map() function. "
   ]
  },
  {
   "cell_type": "code",
   "execution_count": 127,
   "metadata": {},
   "outputs": [
    {
     "name": "stdout",
     "output_type": "stream",
     "text": [
      "Third list:  ['is', 'going', 'how', 'is', 'going', 'fun', 'to', 'be', 'this', 'it']\n",
      "Third list:  [7, 3, 3, 4, 2, 9, 8, 7, 3, 1, 8, 8, 9, 4]\n"
     ]
    }
   ],
   "source": [
    "x=['this','is','going','to','be','fun']\n",
    "y=['how','is','it','going']\n",
    "nums1 = [1,2,7,8,3,7]\n",
    "nums2 = [4,3,8,9,4,3,8,9]\n",
    "print(\"Third list: \", list(random.sample(x+y,len(x)+len(y))))\n",
    "print(\"Third list: \", list(random.sample(nums1+nums2,len(nums1)+len(nums2))))\n"
   ]
  },
  {
   "cell_type": "code",
   "execution_count": 123,
   "metadata": {},
   "outputs": [
    {
     "name": "stdout",
     "output_type": "stream",
     "text": [
      "Original lists:\n",
      "[1, 2, 7, 8, 3, 7]\n",
      "[4, 3, 8, 9, 4, 3, 8, 9]\n",
      "\n",
      "Interleave two given list into another list randomly:\n",
      "[4, 1, 3, 8, 9, 2, 7, 8, 3, 7, 4, 3, 8, 9]\n"
     ]
    }
   ],
   "source": [
    "import random\n",
    "def randomly_interleave(nums1, nums2):\n",
    "    #There are 6 iterator object + 8 iterator ojbect in total out from which sample generated 14 elements in random fashion\n",
    "    result =  list(map(next, random.sample([iter(nums1)]*len(nums1) + [iter(nums2)]*len(nums2), len(nums1)+len(nums2))))\n",
    "    return result\n",
    "nums1 = [1,2,7,8,3,7]\n",
    "nums2 = [4,3,8,9,4,3,8,9]\n",
    "print(\"Original lists:\") \n",
    "print(nums1)\n",
    "print(nums2)\n",
    "print(\"\\nInterleave two given list into another list randomly:\")\n",
    "print(randomly_interleave(nums1, nums2))"
   ]
  },
  {
   "cell_type": "markdown",
   "metadata": {},
   "source": [
    "Write a Python program to split a given dictionary of lists into list of dictionaries using map function."
   ]
  },
  {
   "cell_type": "code",
   "execution_count": null,
   "metadata": {
    "collapsed": true
   },
   "outputs": [],
   "source": [
    "mydict={'Tom':[50,10,30],'Adam':[40,34,69]}\n",
    "#[{'Tom':50,'Adam':40},{'Tom':10,'Adam':34}etc.,]\n"
   ]
  }
 ],
 "metadata": {
  "kernelspec": {
   "display_name": "Python 3",
   "language": "python",
   "name": "python3"
  },
  "language_info": {
   "codemirror_mode": {
    "name": "ipython",
    "version": 3
   },
   "file_extension": ".py",
   "mimetype": "text/x-python",
   "name": "python",
   "nbconvert_exporter": "python",
   "pygments_lexer": "ipython3",
   "version": "3.6.1"
  }
 },
 "nbformat": 4,
 "nbformat_minor": 2
}
